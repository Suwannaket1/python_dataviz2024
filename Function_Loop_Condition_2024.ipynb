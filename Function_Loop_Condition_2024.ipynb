{
  "nbformat": 4,
  "nbformat_minor": 0,
  "metadata": {
    "kernelspec": {
      "display_name": "Python 3",
      "language": "python",
      "name": "python3"
    },
    "language_info": {
      "codemirror_mode": {
        "name": "ipython",
        "version": 3
      },
      "file_extension": ".py",
      "mimetype": "text/x-python",
      "name": "python",
      "nbconvert_exporter": "python",
      "pygments_lexer": "ipython3",
      "version": "3.7.4"
    },
    "colab": {
      "provenance": [],
      "include_colab_link": true
    }
  },
  "cells": [
    {
      "cell_type": "markdown",
      "metadata": {
        "id": "view-in-github",
        "colab_type": "text"
      },
      "source": [
        "<a href=\"https://colab.research.google.com/github/Suwannaket1/python_dataviz2024/blob/main/Function_Loop_Condition_2024.ipynb\" target=\"_parent\"><img src=\"https://colab.research.google.com/assets/colab-badge.svg\" alt=\"Open In Colab\"/></a>"
      ]
    },
    {
      "cell_type": "markdown",
      "source": [
        "HW1 - Note"
      ],
      "metadata": {
        "id": "ChKGkbnwQyRI"
      }
    },
    {
      "cell_type": "code",
      "source": [
        "inp = '12:30:15 - 13:41:07'\n",
        "inp_list = inp.split(' - ')\n",
        "inp_list"
      ],
      "metadata": {
        "colab": {
          "base_uri": "https://localhost:8080/"
        },
        "id": "TH3LkNFeQ62Z",
        "outputId": "da2aa88a-d628-434d-f214-c35aebea1a38"
      },
      "execution_count": null,
      "outputs": [
        {
          "output_type": "execute_result",
          "data": {
            "text/plain": [
              "['12:30:15', '13:41:07']"
            ]
          },
          "metadata": {},
          "execution_count": 1
        }
      ]
    },
    {
      "cell_type": "markdown",
      "metadata": {
        "id": "-57L9aVubPqU"
      },
      "source": [
        "# Function"
      ]
    },
    {
      "cell_type": "markdown",
      "metadata": {
        "id": "1DNzYhO4bPqb"
      },
      "source": [
        "## Function template\n",
        "#### ทำหน้าที่รับ input มาประมวณผลออกมาเป็น output\n",
        "#### f(x) = y"
      ]
    },
    {
      "cell_type": "markdown",
      "metadata": {
        "id": "3Nv1ZDEKbPqc"
      },
      "source": [
        "### definition คือการกำหนดฟังก์ชัน"
      ]
    },
    {
      "cell_type": "markdown",
      "metadata": {
        "id": "YnjWc1vXl1VF"
      },
      "source": [
        "\n",
        "backtick (`) ==> กด ~ ค้าง, alt - 9>6 (full keyboard with number)\n",
        "\n",
        "tilde (~)\n",
        "\n",
        "curly bracket ({ })\n",
        "\n",
        "square bracket ([ ])"
      ]
    },
    {
      "cell_type": "markdown",
      "metadata": {
        "id": "DbHDoWEabPqc"
      },
      "source": [
        "```python\n",
        "    def function_name(_Input_) :\n",
        "        do_something with _Input_ to get _Output_\n",
        "        return _Output_\n",
        "\n",
        "-----------------------------------------------------------------\n",
        "การเยื้องหน้า คือ indent\n",
        "return คือ ส่งค่าออกไป\n",
        "```"
      ]
    },
    {
      "cell_type": "markdown",
      "metadata": {
        "id": "kh2M1smCl5Iv"
      },
      "source": [
        "function มีส่วนสำคัญทั้งหมด 4 ส่วน\n",
        "\n",
        "1.   บอก python ว่าเราจะเขียนฟังก์ชั่น ชื่ออะไร  ```def function_name():``` (*ขาดไม่ได้*)\n",
        "2.   กำหนดตัวแปรที่จะเป็น input  ```_Input_``` (ขาดได้)\n",
        "3.   ส่วนประมวลผล ```do_something with _Input_ to get _Output_``` (*ขาดไม่ได้*)\n",
        "4.   ส่วน output ```return _Output_```(ขาดได้)\n",
        "\n"
      ]
    },
    {
      "cell_type": "markdown",
      "metadata": {
        "id": "lqWzVN5AbPqc"
      },
      "source": [
        "#### ตัวอย่างการเขียน Normal function\n"
      ]
    },
    {
      "cell_type": "code",
      "source": [
        "def print_myname(): #ตัวอย่าง fuction ที่ไม่มีทั้ง input และ output\n",
        "    print('Suwannaket')"
      ],
      "metadata": {
        "id": "e8rtFNPsTgkf"
      },
      "execution_count": null,
      "outputs": []
    },
    {
      "cell_type": "code",
      "source": [
        "print_myname()"
      ],
      "metadata": {
        "colab": {
          "base_uri": "https://localhost:8080/"
        },
        "id": "1B1Zgv-WUO8o",
        "outputId": "39a7a839-ee88-4839-a96f-08cb60abdca9"
      },
      "execution_count": null,
      "outputs": [
        {
          "output_type": "stream",
          "name": "stdout",
          "text": [
            "Suwannaket\n"
          ]
        }
      ]
    },
    {
      "cell_type": "code",
      "metadata": {
        "id": "n706WULobPqc"
      },
      "source": [
        "def print_name(surname,ID,name): #ตัวอย่าง fuction ที่มีทั้ง input หลายตัว และ output 1 ตัว\n",
        "    st = f'ชื่อ {name} นามสกุล {surname} รหัส {ID}'\n",
        "    return st"
      ],
      "execution_count": null,
      "outputs": []
    },
    {
      "cell_type": "code",
      "metadata": {
        "colab": {
          "base_uri": "https://localhost:8080/",
          "height": 35
        },
        "id": "muh0pi_Gkym8",
        "outputId": "4f74b5af-449b-4b03-cd03-8e0a5340b752"
      },
      "source": [
        "print_name('สุมาลี','ุ653020578-2','สุวรรณเกตุ')"
      ],
      "execution_count": null,
      "outputs": [
        {
          "output_type": "execute_result",
          "data": {
            "text/plain": [
              "'ชื่อ สุวรรณเกตุ นามสกุล สุมาลี รหัส ุ653020578-2'"
            ],
            "application/vnd.google.colaboratory.intrinsic+json": {
              "type": "string"
            }
          },
          "metadata": {},
          "execution_count": 8
        }
      ]
    },
    {
      "cell_type": "code",
      "metadata": {
        "colab": {
          "base_uri": "https://localhost:8080/",
          "height": 35
        },
        "id": "I1Kt_GOpbPqd",
        "outputId": "948c61a1-2ac8-4542-c081-0240c73c9e9c"
      },
      "source": [
        "print_name(name='สุวรรณเกตุ',surname='สุมาลี',ID='653020578-2')"
      ],
      "execution_count": null,
      "outputs": [
        {
          "output_type": "execute_result",
          "data": {
            "text/plain": [
              "'ชื่อ สุวรรณเกตุ นามสกุล สุมาลี รหัส 653020578-2'"
            ],
            "application/vnd.google.colaboratory.intrinsic+json": {
              "type": "string"
            }
          },
          "metadata": {},
          "execution_count": 9
        }
      ]
    },
    {
      "cell_type": "markdown",
      "source": [
        "###ข้อแตกต่างระหว่าง function ที่มีและไม่มี output###\n",
        "\n"
      ],
      "metadata": {
        "id": "yW1k5LcXWeTn"
      }
    },
    {
      "cell_type": "markdown",
      "metadata": {
        "id": "tSV-FUQBpx0i"
      },
      "source": [
        "ฟังก์ชั่นไม่จำเป็นต้องมี output"
      ]
    },
    {
      "cell_type": "code",
      "metadata": {
        "id": "loNAFSvLo5dC"
      },
      "source": [
        "def print_name2(surname,ID,name):\n",
        "    st = f'ชื่อ {name} นามสกุล {surname} รหัส {ID}'\n",
        "    print(st)"
      ],
      "execution_count": null,
      "outputs": []
    },
    {
      "cell_type": "code",
      "metadata": {
        "colab": {
          "base_uri": "https://localhost:8080/"
        },
        "id": "JE88oCj8o_j_",
        "outputId": "22e38f75-10a0-435a-cd3c-c6f9f47fadea"
      },
      "source": [
        "print_name2(name='กาญจนา',surname='ประสาคุณ',ID='603021855-2')"
      ],
      "execution_count": null,
      "outputs": [
        {
          "output_type": "stream",
          "name": "stdout",
          "text": [
            "ชื่อ กาญจนา นามสกุล ประสาคุณ รหัส 603021855-2\n"
          ]
        }
      ]
    },
    {
      "cell_type": "code",
      "source": [
        "out_printname1 = print_name(name='สุวรรณเกตุ',surname='สุมาลี',ID='653020578-2')\n",
        "print(out_printname1)"
      ],
      "metadata": {
        "colab": {
          "base_uri": "https://localhost:8080/"
        },
        "id": "vqSTNvJLWKCA",
        "outputId": "6f704353-c7a6-44cd-e1ac-1c19482a2f37"
      },
      "execution_count": null,
      "outputs": [
        {
          "output_type": "stream",
          "name": "stdout",
          "text": [
            "ชื่อ สุวรรณเกตุ นามสกุล สุมาลี รหัส 653020578-2\n"
          ]
        }
      ]
    },
    {
      "cell_type": "code",
      "source": [
        "out_printname2 = print_name2(name='สุวรรณเกตุ',surname='สุมาลี',ID='653020578-2')\n",
        "print(out_printname2)"
      ],
      "metadata": {
        "colab": {
          "base_uri": "https://localhost:8080/"
        },
        "id": "QrVpZjKsWV2W",
        "outputId": "3530dd47-c6a9-46cd-e8ec-da705a5637ff"
      },
      "execution_count": null,
      "outputs": [
        {
          "output_type": "stream",
          "name": "stdout",
          "text": [
            "ชื่อ สุวรรณเกตุ นามสกุล สุมาลี รหัส 653020578-2\n",
            "None\n"
          ]
        }
      ]
    },
    {
      "cell_type": "code",
      "source": [
        "out_printname2 #ถ้า print ออกมาแล้วเป็น None แสดงว่าลืม Return"
      ],
      "metadata": {
        "id": "dvZADW3wXKth"
      },
      "execution_count": null,
      "outputs": []
    },
    {
      "cell_type": "markdown",
      "metadata": {
        "id": "JF4RdyEBqPyl"
      },
      "source": [
        "ฟังก์ชั่นไม่จำเป็นต้องมี input"
      ]
    },
    {
      "cell_type": "code",
      "metadata": {
        "id": "LNb_o_ZXo_gh"
      },
      "source": [
        "def Pi():\n",
        "    return 3.14159265359"
      ],
      "execution_count": null,
      "outputs": []
    },
    {
      "cell_type": "code",
      "metadata": {
        "colab": {
          "base_uri": "https://localhost:8080/"
        },
        "id": "htN6zLbFo_dr",
        "outputId": "fdf816e2-80fe-4286-81f1-1e52dfd6761b"
      },
      "source": [
        "Pi()*(2**2) # หาพื้นที่ของวงกลมที่มีรัศมีเท่ากับ Pi * r^2"
      ],
      "execution_count": null,
      "outputs": [
        {
          "output_type": "execute_result",
          "data": {
            "text/plain": [
              "12.56637061436"
            ]
          },
          "metadata": {},
          "execution_count": 16
        }
      ]
    },
    {
      "cell_type": "markdown",
      "metadata": {
        "id": "ywc0Ho-_rUTu"
      },
      "source": [
        "## เราสามารถกำหนดค่า default ให้กับ input ของฟังก์ชั่นได้"
      ]
    },
    {
      "cell_type": "markdown",
      "metadata": {
        "id": "y_74dHkjxS7f"
      },
      "source": [
        "input ของ function ใน python มีสองแบบ input ที่จำเป็นต้องใส่ กับ input ที่ไม่จำเป็นต้องใส่ (มีค่า default)\n",
        "\n",
        "เราต้องเรียง input ที่จำเป็นต้องใส่ขึ้นก่อน"
      ]
    },
    {
      "cell_type": "code",
      "metadata": {
        "id": "0Lrh-6mAo_bA"
      },
      "source": [
        "def print_2lines_default(name,surname,ID,grade='F'): #เกรดถ้าไม่กรอกจะให้ default เป็น F --> แสดงว่า input ที่ต้องการมีทั้งหมด 3 ตัว\n",
        "    st = f'ชื่อ {name} นามสกุล {surname} รหัส {ID}'\n",
        "    print (st)\n",
        "    st2=f'เกรดวิชา Data Viz >>> {grade}'\n",
        "    print(st2)"
      ],
      "execution_count": null,
      "outputs": []
    },
    {
      "cell_type": "code",
      "metadata": {
        "colab": {
          "base_uri": "https://localhost:8080/"
        },
        "id": "ZH31VIjko_WP",
        "outputId": "e06de358-effc-49c5-eadc-770a4fd26728"
      },
      "source": [
        "print_2lines_default('ธันยาการต์','พวงมาลัย','613020551-8') #ไม่กรอกเกรด"
      ],
      "execution_count": null,
      "outputs": [
        {
          "output_type": "stream",
          "name": "stdout",
          "text": [
            "ชื่อ ธันยาการต์ นามสกุล พวงมาลัย รหัส 613020551-8\n",
            "เกรดวิชา Data Viz >>> F\n"
          ]
        }
      ]
    },
    {
      "cell_type": "code",
      "metadata": {
        "colab": {
          "base_uri": "https://localhost:8080/"
        },
        "id": "FKGr2Iyuo_S2",
        "outputId": "c13366e1-1f5f-4c57-dd69-5c7f483deacf"
      },
      "source": [
        "print_2lines_default('ธันยาการต์','พวงมาลัย','613020551-8','A')"
      ],
      "execution_count": null,
      "outputs": [
        {
          "output_type": "stream",
          "name": "stdout",
          "text": [
            "ชื่อ ธันยาการต์ นามสกุล พวงมาลัย รหัส 613020551-8\n",
            "เกรดวิชา Data Viz >>> A\n"
          ]
        }
      ]
    },
    {
      "cell_type": "code",
      "source": [
        "print_2lines_default('ธันยาการต์','พวงมาลัย','613020551-8', grade = 'A')"
      ],
      "metadata": {
        "colab": {
          "base_uri": "https://localhost:8080/"
        },
        "id": "c4BJ7F__ZKPi",
        "outputId": "f05d6705-0b39-4580-c92d-7b1fea8cd742"
      },
      "execution_count": null,
      "outputs": [
        {
          "output_type": "stream",
          "name": "stdout",
          "text": [
            "ชื่อ ธันยาการต์ นามสกุล พวงมาลัย รหัส 613020551-8\n",
            "เกรดวิชา Data Viz >>> A\n"
          ]
        }
      ]
    },
    {
      "cell_type": "code",
      "source": [
        "print_2lines_default('ธันยาการต์','พวงมาลัย') #ถ้าใส่ input ไม่ครบมันก็จะ error"
      ],
      "metadata": {
        "colab": {
          "base_uri": "https://localhost:8080/",
          "height": 141
        },
        "id": "ThudxnIFZxf8",
        "outputId": "615c2635-b6bd-4b46-aeff-d33a47c293f4"
      },
      "execution_count": null,
      "outputs": [
        {
          "output_type": "error",
          "ename": "TypeError",
          "evalue": "print_2lines_default() missing 1 required positional argument: 'ID'",
          "traceback": [
            "\u001b[0;31m---------------------------------------------------------------------------\u001b[0m",
            "\u001b[0;31mTypeError\u001b[0m                                 Traceback (most recent call last)",
            "\u001b[0;32m<ipython-input-28-800069358ecd>\u001b[0m in \u001b[0;36m<cell line: 1>\u001b[0;34m()\u001b[0m\n\u001b[0;32m----> 1\u001b[0;31m \u001b[0mprint_2lines_default\u001b[0m\u001b[0;34m(\u001b[0m\u001b[0;34m'ธันยาการต์'\u001b[0m\u001b[0;34m,\u001b[0m\u001b[0;34m'พวงมาลัย'\u001b[0m\u001b[0;34m)\u001b[0m\u001b[0;34m\u001b[0m\u001b[0;34m\u001b[0m\u001b[0m\n\u001b[0m",
            "\u001b[0;31mTypeError\u001b[0m: print_2lines_default() missing 1 required positional argument: 'ID'"
          ]
        }
      ]
    },
    {
      "cell_type": "markdown",
      "source": [
        "# Quiz2\n",
        "เขียน function ที่รับ input 1 ตัว ตาม format hh1:mm1:ss1 - hh2:mm2:ss2 และคำนวณหาช่วงเวลาเป็นวินาที ที่ห่างกันระหว่าง time1 และ time2 โดยยังไม่ต้องสนใจว่า time2 สามารถข้ามไปอีกวันได้"
      ],
      "metadata": {
        "id": "3veh_A6Xa3xJ"
      }
    },
    {
      "cell_type": "code",
      "source": [
        "def time_diff(time):\n",
        "  time_list = time.split('-')\n",
        "\n",
        "  time1 = time_list[0]\n",
        "  time2 = time_list[1]\n",
        "\n",
        "  time1_list = time1.split(':')\n",
        "  time2_list = time2.split(':')\n",
        "\n",
        "  time1_sec = int(time1_list[0])*3600 + int(time1_list[1])*60 + int(time1_list[2])\n",
        "  time2_sec = int(time2_list[0])*3600 + int(time2_list[1])*60 + int(time2_list[2])\n",
        "\n",
        "  diff = time2_sec - time1_sec\n",
        "  return diff"
      ],
      "metadata": {
        "id": "T_RVM3g2ba02"
      },
      "execution_count": null,
      "outputs": []
    },
    {
      "cell_type": "code",
      "source": [
        "time_diff('12:30:15-13:41:07')"
      ],
      "metadata": {
        "colab": {
          "base_uri": "https://localhost:8080/"
        },
        "id": "OGuSI0bRcbV_",
        "outputId": "f9f132c1-0a57-4af7-c3df-03dd61b91a40"
      },
      "execution_count": null,
      "outputs": [
        {
          "output_type": "execute_result",
          "data": {
            "text/plain": [
              "4252"
            ]
          },
          "metadata": {},
          "execution_count": 36
        }
      ]
    },
    {
      "cell_type": "code",
      "source": [
        "#เฉลย\n",
        "def cal_dif_secs(timeinput):\n",
        "    time_list = timeinput.split('-')\n",
        "    time1 = time_list[0].split(':')\n",
        "    time2 = time_list[1].split(':')\n",
        "    time1_sec = int(time1[0])*3600 + int(time1[1])*60 + int(time1[2])\n",
        "    time2_sec = int(time2[0])*3600 + int(time2[1])*60 + int(time2[2])\n",
        "    dif_sec = time2_sec - time1_sec\n",
        "    return dif_sec"
      ],
      "metadata": {
        "id": "G1T0wS3pe1xQ"
      },
      "execution_count": null,
      "outputs": []
    },
    {
      "cell_type": "code",
      "source": [
        "cal_dif_secs('12:30:15-13:41:07')"
      ],
      "metadata": {
        "colab": {
          "base_uri": "https://localhost:8080/"
        },
        "id": "zwwtDsChfpGy",
        "outputId": "8c149a37-0c37-47d0-f5ec-cf58a4820475"
      },
      "execution_count": null,
      "outputs": [
        {
          "output_type": "execute_result",
          "data": {
            "text/plain": [
              "4252"
            ]
          },
          "metadata": {},
          "execution_count": 41
        }
      ]
    },
    {
      "cell_type": "markdown",
      "source": [
        "# Quiz 3.5\n",
        "รับ input 2 ตัว โดยตั้งค่า default time1 เป็น 00:00:00"
      ],
      "metadata": {
        "id": "DtVID4rVgdcJ"
      }
    },
    {
      "cell_type": "code",
      "source": [
        "def time_diff2(time2, time1='00:00:00'):\n",
        "  time1_list = time1.split(':')\n",
        "  time2_list = time2.split(':')\n",
        "\n",
        "  time1_sec = int(time1_list[0])*3600 + int(time1_list[1])*60 + int(time1_list[2])\n",
        "  time2_sec = int(time2_list[0])*3600 + int(time2_list[1])*60 + int(time2_list[2])\n",
        "\n",
        "  diff = time2_sec - time1_sec\n",
        "  return diff"
      ],
      "metadata": {
        "id": "SKpCDQQmgniP"
      },
      "execution_count": null,
      "outputs": []
    },
    {
      "cell_type": "code",
      "source": [
        "time_diff2('13:41:07')"
      ],
      "metadata": {
        "colab": {
          "base_uri": "https://localhost:8080/"
        },
        "id": "PVgSiAQOg7Hn",
        "outputId": "878b77c7-29ae-4672-8274-69510ec13514"
      },
      "execution_count": null,
      "outputs": [
        {
          "output_type": "execute_result",
          "data": {
            "text/plain": [
              "49267"
            ]
          },
          "metadata": {},
          "execution_count": 61
        }
      ]
    },
    {
      "cell_type": "markdown",
      "metadata": {
        "id": "UB5fTAr3bPqg"
      },
      "source": [
        "# LOOP การวนซ้ำ"
      ]
    },
    {
      "cell_type": "markdown",
      "metadata": {
        "id": "gpIwjDjg0gfJ"
      },
      "source": [
        "for เป็นคำที่ใช้บอก python ว่าเรากำลังเขียน loop\n",
        "โดย for จะวนดึงสมาชิกจาก ```listA``` มาทำ process ```do_something```"
      ]
    },
    {
      "cell_type": "markdown",
      "metadata": {
        "id": "6XS2wO4_bPqg"
      },
      "source": [
        "```python\n",
        "    for each_member in listA : #วนลูปสมาชิกใน list\n",
        "        do_something\n",
        "```"
      ]
    },
    {
      "cell_type": "markdown",
      "metadata": {
        "id": "d7kQ2AEcbPqg"
      },
      "source": [
        "#### คำสั่ง for เป็นคำสั่งวนซ้ำที่ใช้ควบคุมการทำงานซ้ำๆ ในจำนวนรอบที่แน่นอน"
      ]
    },
    {
      "cell_type": "code",
      "metadata": {
        "colab": {
          "base_uri": "https://localhost:8080/"
        },
        "id": "NcT-s7TEbPqg",
        "outputId": "529f19e6-4544-4e81-c1f9-241464862f3b"
      },
      "source": [
        "for i in [1,2,3] :\n",
        "    o = i**2\n",
        "    print (f'this member = {i} after process = {o}')"
      ],
      "execution_count": null,
      "outputs": [
        {
          "output_type": "stream",
          "name": "stdout",
          "text": [
            "this member = 1 after process = 1\n",
            "this member = 2 after process = 4\n",
            "this member = 3 after process = 9\n"
          ]
        }
      ]
    },
    {
      "cell_type": "markdown",
      "metadata": {
        "id": "YbnFaiU2bPqg"
      },
      "source": [
        "#### ตัวอย่างการใช้คำสั่ง for ในการวนซ้ำค่าของ i เมื่อ i คือ 'Thanapong' และคำสั่ง print(f'{i} -> /') เพื่อกำหนดให้ผลลัพธ์แสดงสัญลักษณ์ -> /  จากนั้นเพิ่มคำสั่ง print(' ') อีกครั้งเพื่อให้ผลลัพธ์มีการเว้นวรรค¶"
      ]
    },
    {
      "cell_type": "code",
      "metadata": {
        "id": "kstoI_CEbPqh",
        "outputId": "d4229c08-7f1a-4994-c08d-ff59d1c2838b",
        "colab": {
          "base_uri": "https://localhost:8080/"
        }
      },
      "source": [
        "for i in 'Thanapong':\n",
        "    print(f'{i} -> / ' )"
      ],
      "execution_count": null,
      "outputs": [
        {
          "output_type": "stream",
          "text": [
            "T -> / \n",
            "h -> / \n",
            "a -> / \n",
            "n -> / \n",
            "a -> / \n",
            "p -> / \n",
            "o -> / \n",
            "n -> / \n",
            "g -> / \n"
          ],
          "name": "stdout"
        }
      ]
    },
    {
      "cell_type": "code",
      "metadata": {
        "id": "mQmh0Ip-V8qR",
        "outputId": "a67e887f-abee-445c-dd33-16eb805b5418",
        "colab": {
          "base_uri": "https://localhost:8080/"
        }
      },
      "source": [
        "for i in 'Thanapong':\n",
        "    print(f'{i} -> / ' ,end = '') #สั่งให้ print แบบ ไม่เว้นบรรทัด"
      ],
      "execution_count": null,
      "outputs": [
        {
          "output_type": "stream",
          "text": [
            "T -> / h -> / a -> / n -> / a -> / p -> / o -> / n -> / g -> / "
          ],
          "name": "stdout"
        }
      ]
    },
    {
      "cell_type": "markdown",
      "metadata": {
        "id": "3_I0IHOqXMIr"
      },
      "source": [
        "## สร้าง list ตัวเลขแบบอัตโนมัติ  range()"
      ]
    },
    {
      "cell_type": "code",
      "metadata": {
        "id": "ensAuLXBW-0P",
        "outputId": "f00a58d7-d9d7-4fb6-a11d-cf375cf362c7",
        "colab": {
          "base_uri": "https://localhost:8080/"
        }
      },
      "source": [
        "range5_output = range(5)\n",
        "print(list(range5_output))"
      ],
      "execution_count": null,
      "outputs": [
        {
          "output_type": "stream",
          "text": [
            "[0, 1, 2, 3, 4]\n"
          ],
          "name": "stdout"
        }
      ]
    },
    {
      "cell_type": "code",
      "metadata": {
        "id": "r8JXggPKXrEx",
        "outputId": "089ce907-1dd6-4734-9594-a014968cc33a",
        "colab": {
          "base_uri": "https://localhost:8080/"
        }
      },
      "source": [
        "for i in range(100):\n",
        "    print('งง',end=' ')"
      ],
      "execution_count": null,
      "outputs": [
        {
          "output_type": "stream",
          "text": [
            "งง งง งง งง งง งง งง งง งง งง งง งง งง งง งง งง งง งง งง งง งง งง งง งง งง งง งง งง งง งง งง งง งง งง งง งง งง งง งง งง งง งง งง งง งง งง งง งง งง งง งง งง งง งง งง งง งง งง งง งง งง งง งง งง งง งง งง งง งง งง งง งง งง งง งง งง งง งง งง งง งง งง งง งง งง งง งง งง งง งง งง งง งง งง งง งง งง งง งง งง "
          ],
          "name": "stdout"
        }
      ]
    },
    {
      "cell_type": "code",
      "metadata": {
        "id": "RLvhNqw8YpKa",
        "outputId": "4a0f60d8-2c26-4a2a-d281-eb44d3a0d2b2",
        "colab": {
          "base_uri": "https://localhost:8080/"
        }
      },
      "source": [
        "list(range(1,11)) #เริ่มต้นเป็นวงทึบ จบเป็นวงกลมโปร่ง เหมือน list slicing"
      ],
      "execution_count": null,
      "outputs": [
        {
          "output_type": "execute_result",
          "data": {
            "text/plain": [
              "[1, 2, 3, 4, 5, 6, 7, 8, 9, 10]"
            ]
          },
          "metadata": {
            "tags": []
          },
          "execution_count": 9
        }
      ]
    },
    {
      "cell_type": "code",
      "metadata": {
        "id": "MqXQ9NLGcW-r",
        "outputId": "6fafadb7-ee19-423d-a6ee-2d24b3389986",
        "colab": {
          "base_uri": "https://localhost:8080/"
        }
      },
      "source": [
        "list(range(-3,20,4))"
      ],
      "execution_count": null,
      "outputs": [
        {
          "output_type": "execute_result",
          "data": {
            "text/plain": [
              "[-3, 1, 5, 9, 13, 17]"
            ]
          },
          "metadata": {
            "tags": []
          },
          "execution_count": 11
        }
      ]
    },
    {
      "cell_type": "markdown",
      "metadata": {
        "id": "vPcR4tJebPqi"
      },
      "source": [
        "### loop in loop\n",
        "#### สามารถใช้ for loop ซ้อนกันสองรอบได้¶"
      ]
    },
    {
      "cell_type": "code",
      "metadata": {
        "id": "TKRcpd5DbPqi",
        "outputId": "d75be69c-afac-4745-a8e2-6022dc36b3e4",
        "colab": {
          "base_uri": "https://localhost:8080/"
        }
      },
      "source": [
        "for name1 in  range(2,5): #(2, 3, 4)\n",
        "    print(f'now name1 = {name1}')\n",
        "    for name2 in  range(1,13):\n",
        "        print(' ',name1,' x ',name2,' = ',name1*name2)\n",
        "    print('the inner loop is end')"
      ],
      "execution_count": null,
      "outputs": [
        {
          "output_type": "stream",
          "name": "stdout",
          "text": [
            "now name1 = 2\n",
            "  2  x  1  =  2\n",
            "  2  x  2  =  4\n",
            "  2  x  3  =  6\n",
            "  2  x  4  =  8\n",
            "  2  x  5  =  10\n",
            "  2  x  6  =  12\n",
            "  2  x  7  =  14\n",
            "  2  x  8  =  16\n",
            "  2  x  9  =  18\n",
            "  2  x  10  =  20\n",
            "  2  x  11  =  22\n",
            "  2  x  12  =  24\n",
            "the inner loop is end\n",
            "now name1 = 3\n",
            "  3  x  1  =  3\n",
            "  3  x  2  =  6\n",
            "  3  x  3  =  9\n",
            "  3  x  4  =  12\n",
            "  3  x  5  =  15\n",
            "  3  x  6  =  18\n",
            "  3  x  7  =  21\n",
            "  3  x  8  =  24\n",
            "  3  x  9  =  27\n",
            "  3  x  10  =  30\n",
            "  3  x  11  =  33\n",
            "  3  x  12  =  36\n",
            "the inner loop is end\n",
            "now name1 = 4\n",
            "  4  x  1  =  4\n",
            "  4  x  2  =  8\n",
            "  4  x  3  =  12\n",
            "  4  x  4  =  16\n",
            "  4  x  5  =  20\n",
            "  4  x  6  =  24\n",
            "  4  x  7  =  28\n",
            "  4  x  8  =  32\n",
            "  4  x  9  =  36\n",
            "  4  x  10  =  40\n",
            "  4  x  11  =  44\n",
            "  4  x  12  =  48\n",
            "the inner loop is end\n"
          ]
        }
      ]
    },
    {
      "cell_type": "markdown",
      "metadata": {
        "id": "7-FAZit8bPqi"
      },
      "source": [
        "### loop in function\n",
        "#### การวนลูปในฟังก์ชั่น¶"
      ]
    },
    {
      "cell_type": "code",
      "metadata": {
        "id": "S0r5yhbDbPqi"
      },
      "source": [
        "def print_feelings(I,friendS,feeling = 'คิดถึง'):\n",
        "    for friend in friendS:\n",
        "        print(f'{I} {feeling} {friend}')"
      ],
      "execution_count": null,
      "outputs": []
    },
    {
      "cell_type": "code",
      "metadata": {
        "id": "_oVKj4SRfGS6"
      },
      "source": [
        "list_friends = ['พี่บูม','ดายน์','แตงโม','ฝน','พี่เจ็ท','น้องแคมป์']"
      ],
      "execution_count": null,
      "outputs": []
    },
    {
      "cell_type": "code",
      "metadata": {
        "id": "RepVZqu6bPqi",
        "outputId": "beae6dea-eff3-48ba-a810-44587ccc24b8",
        "colab": {
          "base_uri": "https://localhost:8080/"
        }
      },
      "source": [
        "print_feelings('เจมส์',list_friends)"
      ],
      "execution_count": null,
      "outputs": [
        {
          "output_type": "stream",
          "name": "stdout",
          "text": [
            "เจมส์ คิดถึง พี่บูม\n",
            "เจมส์ คิดถึง ดายน์\n",
            "เจมส์ คิดถึง แตงโม\n",
            "เจมส์ คิดถึง ฝน\n",
            "เจมส์ คิดถึง พี่เจ็ท\n",
            "เจมส์ คิดถึง น้องแคมป์\n"
          ]
        }
      ]
    },
    {
      "cell_type": "code",
      "metadata": {
        "id": "P20pDnVaf2vK",
        "outputId": "d9c1745b-b67c-485f-c8f6-f913e354f52a",
        "colab": {
          "base_uri": "https://localhost:8080/"
        }
      },
      "source": [
        "print_feelings('เจมส์',list_friends,feeling='รัก')"
      ],
      "execution_count": null,
      "outputs": [
        {
          "output_type": "stream",
          "text": [
            "เจมส์ รัก พี่บูม\n",
            "เจมส์ รัก ดายน์\n",
            "เจมส์ รัก แตงโม\n",
            "เจมส์ รัก ฝน\n",
            "เจมส์ รัก พี่เจ็ท\n",
            "เจมส์ รัก น้องแคมป์\n"
          ],
          "name": "stdout"
        }
      ]
    },
    {
      "cell_type": "code",
      "metadata": {
        "id": "SzHamL8JhKG4",
        "outputId": "770cd9ef-3efe-4bb2-c103-9496172cb407",
        "colab": {
          "base_uri": "https://localhost:8080/"
        }
      },
      "source": [
        "print_feelings('เจมส์',list_friends,'รัก')"
      ],
      "execution_count": null,
      "outputs": [
        {
          "output_type": "stream",
          "text": [
            "เจมส์ รัก พี่บูม\n",
            "เจมส์ รัก ดายน์\n",
            "เจมส์ รัก แตงโม\n",
            "เจมส์ รัก ฝน\n",
            "เจมส์ รัก พี่เจ็ท\n",
            "เจมส์ รัก น้องแคมป์\n"
          ],
          "name": "stdout"
        }
      ]
    },
    {
      "cell_type": "markdown",
      "source": [
        "#HW2\n",
        "วนลูป หาค่าหาช่วงเวลาเป็นวินาที ที่ห่างกันระหว่าง time1 และ time2 ต่อไปนี้\n",
        "1. 18:09:10 - 18:25:10\n",
        "2. 13:38:39 - 23:54:39\n",
        "3. 16:49:58 - 18:05:58\n",
        "4. 21:49:10 - 22:24:10\n",
        "5. 08:52:21 - 09:25:21\n",
        "6. 06:56:26 - 07:49:26\n",
        "7. 12:08:05 - 12:43:05\n",
        "8. 01:48:38 - 07:18:38\n",
        "9. 08:51:21 - 10:17:21\n",
        "10. 17:05:17 - 18:09:17\n"
      ],
      "metadata": {
        "id": "_oSQt3_hjdHH"
      }
    },
    {
      "cell_type": "code",
      "source": [
        "def time_diff(time):\n",
        "  time_list = time.split('-')\n",
        "\n",
        "  time1 = time_list[0]\n",
        "  time2 = time_list[1]\n",
        "\n",
        "  time1_list = time1.split(':')\n",
        "  time2_list = time2.split(':')\n",
        "\n",
        "  time1_sec = int(time1_list[0])*3600 + int(time1_list[1])*60 + int(time1_list[2])\n",
        "  time2_sec = int(time2_list[0])*3600 + int(time2_list[1])*60 + int(time2_list[2])\n",
        "\n",
        "  diff = time2_sec - time1_sec\n",
        "  return diff"
      ],
      "metadata": {
        "id": "gwiXjqM4ZwU3"
      },
      "execution_count": null,
      "outputs": []
    },
    {
      "cell_type": "code",
      "source": [
        "time_list = [\n",
        "  \"18:09:10 - 18:25:10\",\n",
        "  \"13:38:39 - 23:54:39\",\n",
        "  \"16:49:58 - 18:05:58\",\n",
        "  \"21:49:10 - 22:24:10\",\n",
        "  \"08:52:21 - 09:25:21\",\n",
        "  \"06:56:26 - 07:49:26\",\n",
        "  \"12:08:05 - 12:43:05\",\n",
        "  \"01:48:38 - 07:18:38\",\n",
        "  \"08:51:21 - 10:17:21\",\n",
        "  \"17:05:17 - 18:09:17\"\n",
        "]"
      ],
      "metadata": {
        "id": "CY1nCz5TbzZ3"
      },
      "execution_count": null,
      "outputs": []
    },
    {
      "cell_type": "code",
      "source": [
        "for i, time in enumerate(time_list):\n",
        "  diff = time_diff(time)\n",
        "  print(f'ช่วงเวลา {time} ห่างกัน {diff} วินาที')"
      ],
      "metadata": {
        "colab": {
          "base_uri": "https://localhost:8080/"
        },
        "id": "5gke4u6ZcKtS",
        "outputId": "237a90a4-e0ad-4fcb-f9dc-075bb6450a07"
      },
      "execution_count": null,
      "outputs": [
        {
          "output_type": "stream",
          "name": "stdout",
          "text": [
            "ช่วงเวลา 18:09:10 - 18:25:10 ห่างกัน 960 วินาที\n",
            "ช่วงเวลา 13:38:39 - 23:54:39 ห่างกัน 36960 วินาที\n",
            "ช่วงเวลา 16:49:58 - 18:05:58 ห่างกัน 4560 วินาที\n",
            "ช่วงเวลา 21:49:10 - 22:24:10 ห่างกัน 2100 วินาที\n",
            "ช่วงเวลา 08:52:21 - 09:25:21 ห่างกัน 1980 วินาที\n",
            "ช่วงเวลา 06:56:26 - 07:49:26 ห่างกัน 3180 วินาที\n",
            "ช่วงเวลา 12:08:05 - 12:43:05 ห่างกัน 2100 วินาที\n",
            "ช่วงเวลา 01:48:38 - 07:18:38 ห่างกัน 19800 วินาที\n",
            "ช่วงเวลา 08:51:21 - 10:17:21 ห่างกัน 5160 วินาที\n",
            "ช่วงเวลา 17:05:17 - 18:09:17 ห่างกัน 3840 วินาที\n"
          ]
        }
      ]
    },
    {
      "cell_type": "markdown",
      "source": [
        "##Dictionary (Data Structure)\n",
        "\n",
        "โครงสร้างข้อมูลที่จัดเก็บข้อมูลโดยอ้างอิงโดย text\n",
        "วงเล็บ ```{}``` Curly Brackets"
      ],
      "metadata": {
        "id": "_xnJ_9IPVT6x"
      }
    },
    {
      "cell_type": "code",
      "source": [
        "Ex_dict_A = {'memberA':[1,2,3],'memberB':8,'memberC':'abc'} #จัดเก็ย list ตัวเลข หรือ text ได้หมดเลย"
      ],
      "metadata": {
        "id": "s0gdWka0V2VG"
      },
      "execution_count": 1,
      "outputs": []
    },
    {
      "cell_type": "code",
      "source": [
        "Ex_dict_A #สังเกตวงเล็บ ว่าเป็น [] หรือ {}"
      ],
      "metadata": {
        "colab": {
          "base_uri": "https://localhost:8080/"
        },
        "id": "yyZT4x4sWt4z",
        "outputId": "2ba83591-4b26-45e5-ef15-8d749057603e"
      },
      "execution_count": 2,
      "outputs": [
        {
          "output_type": "execute_result",
          "data": {
            "text/plain": [
              "{'memberA': [1, 2, 3], 'memberB': 8, 'memberC': 'abc'}"
            ]
          },
          "metadata": {},
          "execution_count": 2
        }
      ]
    },
    {
      "cell_type": "code",
      "source": [
        "#การเรียกใช้ค่า Dictionary\n",
        "Ex_dict_A['memberA']"
      ],
      "metadata": {
        "colab": {
          "base_uri": "https://localhost:8080/"
        },
        "id": "FTEr-P8TW5ZZ",
        "outputId": "acb94e7c-5843-4dce-e50b-a4a58fafbd11"
      },
      "execution_count": 8,
      "outputs": [
        {
          "output_type": "execute_result",
          "data": {
            "text/plain": [
              "[1, 2, 3]"
            ]
          },
          "metadata": {},
          "execution_count": 8
        }
      ]
    },
    {
      "cell_type": "code",
      "source": [
        "Ex_dict_A['memberA'][1] #ถ้าต้องการชี้ตัวข้างในอีกที พิมพ์ต่อได้เลย"
      ],
      "metadata": {
        "colab": {
          "base_uri": "https://localhost:8080/"
        },
        "id": "Dx5xUJOXYFYA",
        "outputId": "0702acf3-5096-492e-baf6-ce1148d0c81f"
      },
      "execution_count": 9,
      "outputs": [
        {
          "output_type": "execute_result",
          "data": {
            "text/plain": [
              "2"
            ]
          },
          "metadata": {},
          "execution_count": 9
        }
      ]
    },
    {
      "cell_type": "markdown",
      "metadata": {
        "id": "vwK7RmRJbPqj"
      },
      "source": [
        "### looping in dict\n",
        "#### ทำการวนลูปในค่า dict โดยที่เรากำหนดตัว key และvalueขึ้นมา ได้ดังนี้\n"
      ]
    },
    {
      "cell_type": "code",
      "metadata": {
        "id": "HI0F-4HobPqj",
        "outputId": "0f3f3f32-c9ae-4069-f830-13cfa5036900",
        "colab": {
          "base_uri": "https://localhost:8080/"
        }
      },
      "source": [
        "name_grade = {'พันทิพา' : 'B','ศุภนิตา' : 'C','ปนัดดา' : 'A','ทรงกลด' : 'F'}\n",
        "name_grade"
      ],
      "execution_count": 10,
      "outputs": [
        {
          "output_type": "execute_result",
          "data": {
            "text/plain": [
              "{'พันทิพา': 'B', 'ศุภนิตา': 'C', 'ปนัดดา': 'A', 'ทรงกลด': 'F'}"
            ]
          },
          "metadata": {},
          "execution_count": 10
        }
      ]
    },
    {
      "cell_type": "code",
      "metadata": {
        "id": "jWf8aBmpbPqj",
        "outputId": "f627bf10-2f20-4e2b-96f3-f1ffda9370ae",
        "colab": {
          "base_uri": "https://localhost:8080/",
          "height": 35
        }
      },
      "source": [
        "name_grade['ปนัดดา']"
      ],
      "execution_count": 11,
      "outputs": [
        {
          "output_type": "execute_result",
          "data": {
            "text/plain": [
              "'A'"
            ],
            "application/vnd.google.colaboratory.intrinsic+json": {
              "type": "string"
            }
          },
          "metadata": {},
          "execution_count": 11
        }
      ]
    },
    {
      "cell_type": "code",
      "metadata": {
        "scrolled": true,
        "id": "eDqhoebhbPqj",
        "outputId": "3aacc711-9428-4e84-f4cb-fbb7a42ca077",
        "colab": {
          "base_uri": "https://localhost:8080/"
        }
      },
      "source": [
        "for i in name_grade.keys():\n",
        "    print(i)"
      ],
      "execution_count": 15,
      "outputs": [
        {
          "output_type": "stream",
          "name": "stdout",
          "text": [
            "พันทิพา\n",
            "ศุภนิตา\n",
            "ปนัดดา\n",
            "ทรงกลด\n"
          ]
        }
      ]
    },
    {
      "cell_type": "code",
      "metadata": {
        "id": "4CPaOKx-bPqj",
        "outputId": "e8821d6c-d22b-408b-ad3d-cb59f4d5986a",
        "colab": {
          "base_uri": "https://localhost:8080/"
        }
      },
      "source": [
        "name_grade.keys()"
      ],
      "execution_count": 16,
      "outputs": [
        {
          "output_type": "execute_result",
          "data": {
            "text/plain": [
              "dict_keys(['พันทิพา', 'ศุภนิตา', 'ปนัดดา', 'ทรงกลด'])"
            ]
          },
          "metadata": {},
          "execution_count": 16
        }
      ]
    },
    {
      "cell_type": "code",
      "metadata": {
        "id": "Imvq4faObPqj",
        "outputId": "9058ef89-ad8b-458c-d02c-c33d258d5745"
      },
      "source": [
        "for i in name_grade.keys():\n",
        "    print(f'{i} ได้เกรด {name_grade[i]}')\n",
        "\n",
        "#ต้องลูปตรง key เพื่อให้ได้ values ออกมา !!จะไปลูปที่ values ไม่ได้"
      ],
      "execution_count": null,
      "outputs": [
        {
          "output_type": "stream",
          "text": [
            "พันทิพา ได้เกรด B\n",
            "ศุภนิตา ได้เกรด C\n",
            "ปนัดดา ได้เกรด A\n",
            "ทรงกลด ได้เกรด F\n"
          ],
          "name": "stdout"
        }
      ]
    },
    {
      "cell_type": "markdown",
      "source": [
        "#HW2 Example"
      ],
      "metadata": {
        "id": "OiOxSSDeabxe"
      }
    },
    {
      "cell_type": "code",
      "source": [
        "time_list =  [\n",
        "    (\"18:09:10\", \"18:25:10\"),\n",
        "    (\"13:38:39\", \"23:54:39\"),\n",
        "    (\"16:49:58\", \"18:05:58\"),\n",
        "    (\"21:49:10\", \"22:24:10\"),\n",
        "    (\"08:52:21\", \"09:25:21\"),\n",
        "    (\"06:56:26\", \"07:49:26\"),\n",
        "    (\"12:08:05\", \"12:43:05\"),\n",
        "    (\"01:48:38\", \"07:18:38\"),\n",
        "    (\"08:51:21\", \"10:17:21\"),\n",
        "    (\"17:05:17\", \"18:09:17\")]\n",
        "\n",
        "def time_to_second(time1,time2):\n",
        "    time1_list = time1.split(':')\n",
        "    time2_list = time2.split(':')\n",
        "    time1_sec = int(time1_list[0])*3600 + int(time1_list[1])*60 + int(time1_list[2])\n",
        "    time2_sec = int(time2_list[0])*3600 + int(time2_list[1])*60 + int(time2_list[2])\n",
        "    return(time2_sec - time1_sec)\n",
        "\n",
        "for time1,time2 in time_list:\n",
        "  diff_seconds = time_to_second(time1,time2)\n",
        "  print(f\"Time difference between {time1} - {time2} is {diff_seconds} seconds\")"
      ],
      "metadata": {
        "colab": {
          "base_uri": "https://localhost:8080/"
        },
        "id": "qc_kCIjlbA0J",
        "outputId": "349fbd6e-e3f7-49e2-c95e-61d3befa31be"
      },
      "execution_count": 23,
      "outputs": [
        {
          "output_type": "stream",
          "name": "stdout",
          "text": [
            "Time difference between 18:09:10 - 18:25:10 is 960 seconds\n",
            "Time difference between 13:38:39 - 23:54:39 is 36960 seconds\n",
            "Time difference between 16:49:58 - 18:05:58 is 4560 seconds\n",
            "Time difference between 21:49:10 - 22:24:10 is 2100 seconds\n",
            "Time difference between 08:52:21 - 09:25:21 is 1980 seconds\n",
            "Time difference between 06:56:26 - 07:49:26 is 3180 seconds\n",
            "Time difference between 12:08:05 - 12:43:05 is 2100 seconds\n",
            "Time difference between 01:48:38 - 07:18:38 is 19800 seconds\n",
            "Time difference between 08:51:21 - 10:17:21 is 5160 seconds\n",
            "Time difference between 17:05:17 - 18:09:17 is 3840 seconds\n"
          ]
        }
      ]
    },
    {
      "cell_type": "code",
      "source": [
        "Time1 = \"18:09:10\"\n",
        "Time2 = \"00:25:10\"\n",
        "diff_seconds = time_to_second(time1,time2)\n",
        "print(f\"Time difference between {time1} - {time2} is {diff_seconds} seconds\")"
      ],
      "metadata": {
        "colab": {
          "base_uri": "https://localhost:8080/"
        },
        "id": "IfwmOOYKbMUD",
        "outputId": "a5034523-ff5f-4ae4-d52c-e67cf264b13b"
      },
      "execution_count": 24,
      "outputs": [
        {
          "output_type": "stream",
          "name": "stdout",
          "text": [
            "Time difference between 17:05:17 - 18:09:17 is 3840 seconds\n"
          ]
        }
      ]
    },
    {
      "cell_type": "markdown",
      "metadata": {
        "id": "pLDGW8IobPqk"
      },
      "source": [
        "### conditional statement คือ เงื่อนไข /ประโยคเงื่อนไข"
      ]
    },
    {
      "cell_type": "markdown",
      "source": [
        "ชนิดตัวแปรที่เกี่ยวข้อง Boolean (True,False)"
      ],
      "metadata": {
        "id": "D8eNj2rjcXPz"
      }
    },
    {
      "cell_type": "code",
      "source": [
        "condition_1 = True\n",
        "condition_2 = False\n",
        "#True=1, False=0"
      ],
      "metadata": {
        "id": "Su6XYAvscfEv"
      },
      "execution_count": null,
      "outputs": []
    },
    {
      "cell_type": "markdown",
      "metadata": {
        "id": "8_-zCLkrbPqk"
      },
      "source": [
        "##### การวนลูปโดยมีเงื่อนไขต่างๆมาเกี่ยวข้อง โดยมี pattern ดังนี้\n"
      ]
    },
    {
      "cell_type": "markdown",
      "metadata": {
        "id": "ZQuWb-bybPqk"
      },
      "source": [
        "```Python\n",
        "if condition1 :\n",
        "    do something\n",
        "elif condition2 :  #elif คือ else if\n",
        "    do another thing\n",
        "else:\n",
        "    do ...\n",
        "```\n",
        "    "
      ]
    },
    {
      "cell_type": "code",
      "source": [
        "def time_to_second(time1):\n",
        "    time1_list = time1.split(':')\n",
        "    time1_sec = int(time1_list[0])*3600 + int(time1_list[1])*60 + int(time1_list[2])\n",
        "    return time1_sec"
      ],
      "metadata": {
        "id": "9hmMRcpweBO8"
      },
      "execution_count": 25,
      "outputs": []
    },
    {
      "cell_type": "code",
      "source": [
        "time_list =  [\n",
        "    (\"18:09:10\", \"18:25:10\"),\n",
        "    (\"13:38:39\", \"23:54:39\"),\n",
        "    (\"16:49:58\", \"18:05:58\"),\n",
        "    (\"21:49:10\", \"22:24:10\"),\n",
        "    (\"08:52:21\", \"09:25:21\"),\n",
        "    (\"06:56:26\", \"07:49:26\"),\n",
        "    (\"12:08:05\", \"12:43:05\"),\n",
        "    (\"01:48:38\", \"07:18:38\"),\n",
        "    (\"08:51:21\", \"10:17:21\"),\n",
        "    (\"17:05:17\", \"18:09:17\"),\n",
        "    (\"18:51:21\", \"00:17:21\"),\n",
        "    (\"17:05:17\", \"11:09:17\")\n",
        "    ]"
      ],
      "metadata": {
        "id": "mBP2zBSYd9Uf"
      },
      "execution_count": 26,
      "outputs": []
    },
    {
      "cell_type": "code",
      "source": [
        "for time1,time2 in time_list:\n",
        "\n",
        "  if time_to_second(time1) < time_to_second(time2): #ถ้า time1 < time2\n",
        "    diff_seconds = time_to_second(time2) - time_to_second(time1)\n",
        "  else: #ถ้า ttime1 > time2\n",
        "    diff_seconds = (time_to_second(time2)+(24*60*60)) - time_to_second(time1)\n",
        "\n",
        "  print(f\"Time difference between {time1} - {time2} is {diff_seconds} seconds\")"
      ],
      "metadata": {
        "colab": {
          "base_uri": "https://localhost:8080/"
        },
        "id": "jsrUYe4Ydnv_",
        "outputId": "0d2bd535-40a1-4ae5-d2f4-b1d895b5063b"
      },
      "execution_count": 32,
      "outputs": [
        {
          "output_type": "stream",
          "name": "stdout",
          "text": [
            "Time difference between 18:09:10 - 18:25:10 is 960 seconds\n",
            "Time difference between 13:38:39 - 23:54:39 is 36960 seconds\n",
            "Time difference between 16:49:58 - 18:05:58 is 4560 seconds\n",
            "Time difference between 21:49:10 - 22:24:10 is 2100 seconds\n",
            "Time difference between 08:52:21 - 09:25:21 is 1980 seconds\n",
            "Time difference between 06:56:26 - 07:49:26 is 3180 seconds\n",
            "Time difference between 12:08:05 - 12:43:05 is 2100 seconds\n",
            "Time difference between 01:48:38 - 07:18:38 is 19800 seconds\n",
            "Time difference between 08:51:21 - 10:17:21 is 5160 seconds\n",
            "Time difference between 17:05:17 - 18:09:17 is 3840 seconds\n",
            "Time difference between 18:51:21 - 00:17:21 is 19560 seconds\n",
            "Time difference between 17:05:17 - 11:09:17 is 65040 seconds\n"
          ]
        }
      ]
    },
    {
      "cell_type": "markdown",
      "source": [
        "#HW3 เพิ่ม ฟังก์ชันแปลงวินาทีกลับมาเป็น ชั่วโมง นาที วินาที โดยไม่ใชเฟังก์ชันช่วยเหลืออื่น ๆ ของ Python (import) ถ้าส่วนของชั่วโมง นาที วินาที เป็นศูนย์ ไม่ต้องแสดง\n"
      ],
      "metadata": {
        "id": "OmC6-72sg4Hc"
      }
    },
    {
      "cell_type": "markdown",
      "source": [
        "## ==, !=, >=, <=, >, < : Operator ของตัวเลข"
      ],
      "metadata": {
        "id": "x177Efq-ihFv"
      }
    },
    {
      "cell_type": "markdown",
      "source": [
        "## ```&```, ```|```, ```in``` (เป็นสมาชิกของ list นี้?), ```is```(เป็นตัวแปรที่ระบุ?): Operator อื่นๆ"
      ],
      "metadata": {
        "id": "qUIw1-5tixxn"
      }
    },
    {
      "cell_type": "code",
      "source": [
        "if True & True:\n",
        "  print(True & True)"
      ],
      "metadata": {
        "colab": {
          "base_uri": "https://localhost:8080/"
        },
        "id": "OG_NwPwmjOXp",
        "outputId": "aa2ccab1-830e-4601-de61-97180d0f62d4"
      },
      "execution_count": 35,
      "outputs": [
        {
          "output_type": "stream",
          "name": "stdout",
          "text": [
            "True\n"
          ]
        }
      ]
    },
    {
      "cell_type": "code",
      "source": [
        "if (1>0) & (0>-1):\n",
        "  print(True & True)"
      ],
      "metadata": {
        "colab": {
          "base_uri": "https://localhost:8080/"
        },
        "id": "iJIWyF-sj0fc",
        "outputId": "6f689422-ba1d-45d5-d88a-1ea1e6c5bfb3"
      },
      "execution_count": 39,
      "outputs": [
        {
          "output_type": "stream",
          "name": "stdout",
          "text": [
            "True\n"
          ]
        }
      ]
    },
    {
      "cell_type": "code",
      "source": [
        "if 'T' in 'Thanapong':\n",
        "  print('T in Thanapong')"
      ],
      "metadata": {
        "colab": {
          "base_uri": "https://localhost:8080/"
        },
        "id": "sdyodcd-kIJ2",
        "outputId": "24182c2b-808f-4c8d-c34f-18e4023c3a16"
      },
      "execution_count": 40,
      "outputs": [
        {
          "output_type": "stream",
          "name": "stdout",
          "text": [
            "T in Thanapong\n"
          ]
        }
      ]
    },
    {
      "cell_type": "code",
      "source": [
        "def return_nothing(x):\n",
        "  x = x+1"
      ],
      "metadata": {
        "id": "bc3pdzdzlDB2"
      },
      "execution_count": 45,
      "outputs": []
    },
    {
      "cell_type": "code",
      "source": [
        "if return_nothing(5) is None:\n",
        "  print('x is null')\n",
        "\n",
        "#ส่วนใหญ่จะเกิดกับฟังก์ชันที่ไม่มี return"
      ],
      "metadata": {
        "colab": {
          "base_uri": "https://localhost:8080/"
        },
        "id": "fSja0VFYkd3T",
        "outputId": "946045ee-7caa-49c6-b1a1-ab153c35e0b2"
      },
      "execution_count": 47,
      "outputs": [
        {
          "output_type": "stream",
          "name": "stdout",
          "text": [
            "x is null\n"
          ]
        }
      ]
    },
    {
      "cell_type": "markdown",
      "metadata": {
        "id": "sSySEFHNbPql"
      },
      "source": [
        "#HW4\n",
        "#### เขียน function ตัดเกรด โดยที่ input เป็นคะแนน(0-100) , output เป็นเกรด (F-A)\n",
        "#### วนลูปตัดเกรด input = [1,50,65,90,101,-5,49]"
      ]
    },
    {
      "cell_type": "markdown",
      "metadata": {
        "id": "c3TDhZHzbPqm"
      },
      "source": [
        "##### กำหนด\n",
        "      ถ้าคะแนนอยู่ระหว่างมากกว่าหรือเท่ากับ  0  แต่น้อยกว่า 50 จะได้เกรด F\n",
        "      ถ้าคะแนนอยู่ระหว่างมากกว่าหรือเท่ากับ 50 แต่น้อยกว่า 55 จะได้เกรด D\n",
        "      ถ้าคะแนนอยู่ระหว่างมากกว่าหรือเท่ากับ 55 แต่น้อยกว่า 60 จะได้เกรด D+\n",
        "      ถ้าคะแนนอยู่ระหว่างมากกว่าหรือเท่ากับ 60 แต่น้อยกว่า 65 จะได้เกรด C\n",
        "      ถ้าคะแนนอยู่ระหว่างมากกว่าหรือเท่ากับ 65 แต่น้อยกว่า 70 จะได้เกรด C+\n",
        "      ถ้าคะแนนอยู่ระหว่างมากกว่าหรือเท่ากับ 70 แต่น้อยกว่า 75 จะได้เกรด B\n",
        "      ถ้าคะแนนอยู่ระหว่างมากกว่าหรือเท่ากับ 75 แต่น้อยกว่า 80 จะได้เกรด B+\n",
        "      ถ้าคะแนนอยู่ระหว่างมากกว่าหรือเท่ากับ 80  จะได้เกรด A\n",
        "      แต่ว่าค่าคะแนนจะต้องไม่ต่ำกว่า 0 และมากกว่า 100 ไม่งั้นจะเกิด error"
      ]
    },
    {
      "cell_type": "markdown",
      "metadata": {
        "id": "Bg3vVE3GbPqn"
      },
      "source": [
        "# Finish"
      ]
    }
  ]
}