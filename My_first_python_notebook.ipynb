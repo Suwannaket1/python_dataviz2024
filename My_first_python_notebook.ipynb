{
  "nbformat": 4,
  "nbformat_minor": 0,
  "metadata": {
    "colab": {
      "provenance": [],
      "authorship_tag": "ABX9TyPr9ppj29OC6Qd/jbFn+Iu9",
      "include_colab_link": true
    },
    "kernelspec": {
      "name": "python3",
      "display_name": "Python 3"
    },
    "language_info": {
      "name": "python"
    }
  },
  "cells": [
    {
      "cell_type": "markdown",
      "metadata": {
        "id": "view-in-github",
        "colab_type": "text"
      },
      "source": [
        "<a href=\"https://colab.research.google.com/github/Suwannaket1/python_dataviz2024/blob/main/My_first_python_notebook.ipynb\" target=\"_parent\"><img src=\"https://colab.research.google.com/assets/colab-badge.svg\" alt=\"Open In Colab\"/></a>"
      ]
    },
    {
      "cell_type": "markdown",
      "source": [
        "Basic Programming for Data Science & Data Visualization\n",
        "\n",
        "here we use **Markdown**"
      ],
      "metadata": {
        "id": "s1u57WMPRowV"
      }
    },
    {
      "cell_type": "code",
      "source": [
        "print('Suwannaket')"
      ],
      "metadata": {
        "colab": {
          "base_uri": "https://localhost:8080/"
        },
        "id": "Au2JLhMLSPPP",
        "outputId": "4f3d1c96-fe4d-48d2-9973-cdfc2098965b"
      },
      "execution_count": 1,
      "outputs": [
        {
          "output_type": "stream",
          "name": "stdout",
          "text": [
            "Suwannaket\n"
          ]
        }
      ]
    },
    {
      "cell_type": "code",
      "source": [
        "print('Sumalee')"
      ],
      "metadata": {
        "colab": {
          "base_uri": "https://localhost:8080/"
        },
        "id": "lKuosOA-SynR",
        "outputId": "fe714a7f-54ad-443e-eb7b-38e79f5b1e72"
      },
      "execution_count": 2,
      "outputs": [
        {
          "output_type": "stream",
          "name": "stdout",
          "text": [
            "Sumalee\n"
          ]
        }
      ]
    }
  ]
}